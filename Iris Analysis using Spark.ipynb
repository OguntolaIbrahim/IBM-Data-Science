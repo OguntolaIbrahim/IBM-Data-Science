{
    "cells": [
        {
            "cell_type": "code",
            "execution_count": 1,
            "metadata": {},
            "outputs": [
                {
                    "name": "stdout",
                    "output_type": "stream",
                    "text": "+---+---+------+----------+---------+                               (0 + 1) / 1]\n|150|  4|setosa|versicolor|virginica|\n+---+---+------+----------+---------+\n|5.1|3.5|   1.4|       0.2|        0|\n|4.9|3.0|   1.4|       0.2|        0|\n|4.7|3.2|   1.3|       0.2|        0|\n|4.6|3.1|   1.5|       0.2|        0|\n|5.0|3.6|   1.4|       0.2|        0|\n+---+---+------+----------+---------+\nonly showing top 5 rows\n\n"
                },
                {
                    "data": {
                        "text/plain": "configurationName = os_ea323c4bf5f24aeaa45cb3a2fa4f9d5c_configs\ncos = com.ibm.ibmos2spark.CloudObjectStorage@c734a5a2\nspark = org.apache.spark.sql.SparkSession@77995d2a\ndfData1 = [150: double, 4: double ... 3 more fields]\n"
                    },
                    "metadata": {},
                    "output_type": "display_data"
                },
                {
                    "data": {
                        "text/plain": "getCredentials: ()scala.collection.mutable.HashMap[String,String]\n"
                    },
                    "metadata": {},
                    "output_type": "display_data"
                },
                {
                    "data": {
                        "text/plain": "[150: double, 4: double ... 3 more fields]"
                    },
                    "execution_count": 1,
                    "metadata": {},
                    "output_type": "execute_result"
                }
            ],
            "source": "// The code was removed by Watson Studio for sharing."
        },
        {
            "cell_type": "code",
            "execution_count": 1,
            "metadata": {},
            "outputs": [
                {
                    "data": {
                        "text/plain": "4"
                    },
                    "execution_count": 1,
                    "metadata": {},
                    "output_type": "execute_result"
                }
            ],
            "source": "2+2"
        }
    ],
    "metadata": {
        "kernelspec": {
            "display_name": "Scala 2.12 with Spark",
            "language": "scala",
            "name": "scala"
        },
        "language_info": {
            "codemirror_mode": "text/x-scala",
            "file_extension": ".scala",
            "mimetype": "text/x-scala",
            "name": "scala",
            "pygments_lexer": "scala",
            "version": "2.12.15"
        }
    },
    "nbformat": 4,
    "nbformat_minor": 1
}